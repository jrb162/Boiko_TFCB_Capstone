{
 "cells": [
  {
   "cell_type": "code",
   "execution_count": null,
   "metadata": {},
   "outputs": [],
   "source": [
    "## Title: Relationship of tumor histologic grade to periareolar location.\n",
    "\n",
    "## Question 3: Which Histology grade of tumors has the highest proportion of tumors in the Periareolar location?\n",
    "\n",
    "## This report examines which histologic grade of tumors has the relative most in the periareolar location. (sorry, I can't think of yet another way to phrase this!)"
   ]
  },
  {
   "cell_type": "code",
   "execution_count": 15,
   "metadata": {},
   "outputs": [],
   "source": [
    "import pandas\n",
    "import pandas as pd\n",
    "import numpy as np"
   ]
  },
  {
   "cell_type": "code",
   "execution_count": 12,
   "metadata": {},
   "outputs": [
    {
     "name": "stdout",
     "output_type": "stream",
     "text": [
      "            ID  Diameter  Subtype  Quadrant  MR_MCL  MR_AMP  Y_raw  X_norm  \\\n",
      "0         1.00       1.5      1.0       2.0     2.0     2.0    1.7     0.0   \n",
      "1         2.00       3.0      1.0       2.0     2.0     3.0    0.1     0.0   \n",
      "2         3.00       1.6      1.0       1.0     2.0     2.0    3.9     0.0   \n",
      "3         4.00       1.8      1.0       5.0     2.0     2.0    3.5     0.0   \n",
      "4         5.00       3.0      1.0       1.0     2.0     3.0    0.3    -0.1   \n",
      "...        ...       ...      ...       ...     ...     ...    ...     ...   \n",
      "1006  1,020.00       2.5      3.0       2.0     1.0     3.0    2.0    -0.1   \n",
      "1007  1,021.00       1.7      3.0       3.0     3.0     3.0    0.6     0.2   \n",
      "1008  1,022.00       2.0      3.0       1.0     3.0     3.0    2.3     0.1   \n",
      "1009  1,023.00       4.5      1.0       4.0     1.0     3.0    0.1    -0.3   \n",
      "1010  1,024.00       1.5      1.0       2.0     2.0     3.0    0.4    -0.1   \n",
      "\n",
      "      Y_norm  Z_norm  MG_grade  X_raw  Z_raw  Palpability  Histology  \n",
      "0        0.2     0.2       3.0   -0.3    2.7          0.0        2.0  \n",
      "1        0.0     0.5       3.0   -0.4    6.7          1.0        2.0  \n",
      "2        0.4     0.1       3.0    0.2    1.2          1.0        2.0  \n",
      "3        0.4     0.0       3.0   -0.3   -0.6          0.0        2.0  \n",
      "4        0.1     0.0       4.0   -0.5    0.5          1.0        2.0  \n",
      "...      ...     ...       ...    ...    ...          ...        ...  \n",
      "1006     0.2     0.0       1.0   -0.9    0.5          0.0        3.0  \n",
      "1007     0.1     0.1       2.0    1.5    1.2          1.0        3.0  \n",
      "1008     0.2     0.1       1.0    1.1    2.0          0.0        3.0  \n",
      "1009     0.0    -0.2       4.0   -2.8   -2.9          1.0        3.0  \n",
      "1010     0.0     0.3       3.0   -0.7    3.1          0.0        1.0  \n",
      "\n",
      "[1011 rows x 15 columns]\n"
     ]
    }
   ],
   "source": [
    "df = pandas.read_csv('C:\\\\Users\\\\Julie\\\\Documents\\\\Boiko_TFCB_Capstone\\\\Boiko_TFCB_Capstone\\\\Primary_data_files\\\\data_renamed.csv')\n",
    "print(df)"
   ]
  },
  {
   "cell_type": "code",
   "execution_count": 20,
   "metadata": {},
   "outputs": [
    {
     "data": {
      "text/html": [
       "<div>\n",
       "<style scoped>\n",
       "    .dataframe tbody tr th:only-of-type {\n",
       "        vertical-align: middle;\n",
       "    }\n",
       "\n",
       "    .dataframe tbody tr th {\n",
       "        vertical-align: top;\n",
       "    }\n",
       "\n",
       "    .dataframe thead th {\n",
       "        text-align: right;\n",
       "    }\n",
       "</style>\n",
       "<table border=\"1\" class=\"dataframe\">\n",
       "  <thead>\n",
       "    <tr style=\"text-align: right;\">\n",
       "      <th>Quadrant</th>\n",
       "      <th>1.0</th>\n",
       "      <th>2.0</th>\n",
       "      <th>3.0</th>\n",
       "      <th>4.0</th>\n",
       "      <th>5.0</th>\n",
       "    </tr>\n",
       "    <tr>\n",
       "      <th>Histology</th>\n",
       "      <th></th>\n",
       "      <th></th>\n",
       "      <th></th>\n",
       "      <th></th>\n",
       "      <th></th>\n",
       "    </tr>\n",
       "  </thead>\n",
       "  <tbody>\n",
       "    <tr>\n",
       "      <th>1.0</th>\n",
       "      <td>0.491379</td>\n",
       "      <td>0.293103</td>\n",
       "      <td>0.112069</td>\n",
       "      <td>0.034483</td>\n",
       "      <td>0.068966</td>\n",
       "    </tr>\n",
       "    <tr>\n",
       "      <th>2.0</th>\n",
       "      <td>0.446581</td>\n",
       "      <td>0.275641</td>\n",
       "      <td>0.136752</td>\n",
       "      <td>0.068376</td>\n",
       "      <td>0.072650</td>\n",
       "    </tr>\n",
       "    <tr>\n",
       "      <th>3.0</th>\n",
       "      <td>0.447307</td>\n",
       "      <td>0.250585</td>\n",
       "      <td>0.124122</td>\n",
       "      <td>0.088993</td>\n",
       "      <td>0.088993</td>\n",
       "    </tr>\n",
       "    <tr>\n",
       "      <th>All</th>\n",
       "      <td>0.452028</td>\n",
       "      <td>0.267062</td>\n",
       "      <td>0.128586</td>\n",
       "      <td>0.073195</td>\n",
       "      <td>0.079130</td>\n",
       "    </tr>\n",
       "  </tbody>\n",
       "</table>\n",
       "</div>"
      ],
      "text/plain": [
       "Quadrant        1.0       2.0       3.0       4.0       5.0\n",
       "Histology                                                  \n",
       "1.0        0.491379  0.293103  0.112069  0.034483  0.068966\n",
       "2.0        0.446581  0.275641  0.136752  0.068376  0.072650\n",
       "3.0        0.447307  0.250585  0.124122  0.088993  0.088993\n",
       "All        0.452028  0.267062  0.128586  0.073195  0.079130"
      ]
     },
     "execution_count": 20,
     "metadata": {},
     "output_type": "execute_result"
    }
   ],
   "source": [
    "pd.crosstab(df['Histology'], df['Quadrant'], margins=True,  normalize='index')"
   ]
  },
  {
   "cell_type": "code",
   "execution_count": null,
   "metadata": {},
   "outputs": [],
   "source": [
    "## Results/conclusions: Periareolar tumors are Quadrant 5. As seen in the table above, Histology grade 3 tumors narrowly have the highest proportion of Periareolar tumors."
   ]
  },
  {
   "cell_type": "code",
   "execution_count": null,
   "metadata": {},
   "outputs": [],
   "source": [
    "## Reproducibility statement:\n",
    "## The data in my capstone project reports is likely quite reproducible. Since I split this analysis between Python and RStudio, I found it easier to work from the same CSV file which had already omitted the rows with missing data so that there wasn't the risk of Python-specific and RStudio-specific deletions of null data parsing the tables differently. On the other hand, perhaps my method could have been prone to its own error!\n",
    "\n",
    "## Regarding the original paper's reproducibility, the online data set does not include all of the categories analyzed in the paper (e.g., axillary node status, surgical history, and many other variables). The authors do document their analyses from SPSS but don't list the actual code and this does not appear to be included in the supplemental data."
   ]
  }
 ],
 "metadata": {
  "kernelspec": {
   "display_name": "Python 3",
   "language": "python",
   "name": "python3"
  },
  "language_info": {
   "codemirror_mode": {
    "name": "ipython",
    "version": 3
   },
   "file_extension": ".py",
   "mimetype": "text/x-python",
   "name": "python",
   "nbconvert_exporter": "python",
   "pygments_lexer": "ipython3",
   "version": "3.8.5"
  }
 },
 "nbformat": 4,
 "nbformat_minor": 4
}
