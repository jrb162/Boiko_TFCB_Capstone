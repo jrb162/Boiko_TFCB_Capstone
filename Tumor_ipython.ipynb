{
 "cells": [
  {
   "cell_type": "code",
   "execution_count": 2,
   "metadata": {},
   "outputs": [],
   "source": [
    "import pandas"
   ]
  },
  {
   "cell_type": "code",
   "execution_count": 5,
   "metadata": {},
   "outputs": [
    {
     "name": "stdout",
     "output_type": "stream",
     "text": [
      "            ID  Diameter  Subtype  Quadrant  MR_MCL  MR_AMP  Y_raw  X_norm  \\\n",
      "0         1.00       1.5      1.0       2.0     2.0     2.0    1.7     0.0   \n",
      "1         2.00       3.0      1.0       2.0     2.0     3.0    0.1     0.0   \n",
      "2         3.00       1.6      1.0       1.0     2.0     2.0    3.9     0.0   \n",
      "3         4.00       1.8      1.0       5.0     2.0     2.0    3.5     0.0   \n",
      "4         5.00       3.0      1.0       1.0     2.0     3.0    0.3    -0.1   \n",
      "...        ...       ...      ...       ...     ...     ...    ...     ...   \n",
      "1006  1,020.00       2.5      3.0       2.0     1.0     3.0    2.0    -0.1   \n",
      "1007  1,021.00       1.7      3.0       3.0     3.0     3.0    0.6     0.2   \n",
      "1008  1,022.00       2.0      3.0       1.0     3.0     3.0    2.3     0.1   \n",
      "1009  1,023.00       4.5      1.0       4.0     1.0     3.0    0.1    -0.3   \n",
      "1010  1,024.00       1.5      1.0       2.0     2.0     3.0    0.4    -0.1   \n",
      "\n",
      "      Y_norm  Z_norm  MG_grade  X_raw  Z_raw  Palpability  Histology  \n",
      "0        0.2     0.2       3.0   -0.3    2.7          0.0        2.0  \n",
      "1        0.0     0.5       3.0   -0.4    6.7          1.0        2.0  \n",
      "2        0.4     0.1       3.0    0.2    1.2          1.0        2.0  \n",
      "3        0.4     0.0       3.0   -0.3   -0.6          0.0        2.0  \n",
      "4        0.1     0.0       4.0   -0.5    0.5          1.0        2.0  \n",
      "...      ...     ...       ...    ...    ...          ...        ...  \n",
      "1006     0.2     0.0       1.0   -0.9    0.5          0.0        3.0  \n",
      "1007     0.1     0.1       2.0    1.5    1.2          1.0        3.0  \n",
      "1008     0.2     0.1       1.0    1.1    2.0          0.0        3.0  \n",
      "1009     0.0    -0.2       4.0   -2.8   -2.9          1.0        3.0  \n",
      "1010     0.0     0.3       3.0   -0.7    3.1          0.0        1.0  \n",
      "\n",
      "[1011 rows x 15 columns]\n"
     ]
    }
   ],
   "source": [
    "df = pandas.read_csv('data_renamed.csv')\n",
    "print(df)"
   ]
  }
 ],
 "metadata": {
  "kernelspec": {
   "display_name": "Python 3",
   "language": "python",
   "name": "python3"
  },
  "language_info": {
   "codemirror_mode": {
    "name": "ipython",
    "version": 3
   },
   "file_extension": ".py",
   "mimetype": "text/x-python",
   "name": "python",
   "nbconvert_exporter": "python",
   "pygments_lexer": "ipython3",
   "version": "3.8.5"
  }
 },
 "nbformat": 4,
 "nbformat_minor": 4
}
